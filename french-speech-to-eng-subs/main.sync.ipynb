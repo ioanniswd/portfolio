{
 "cells": [
  {
   "cell_type": "markdown",
   "id": "7fd65f31",
   "metadata": {},
   "source": [
    "### Parameters"
   ]
  },
  {
   "cell_type": "code",
   "execution_count": null,
   "id": "878144e6",
   "metadata": {},
   "outputs": [],
   "source": [
    "video_path = ''"
   ]
  },
  {
   "cell_type": "code",
   "execution_count": null,
   "id": "bf9de116",
   "metadata": {},
   "outputs": [],
   "source": [
    "name_base = video_path.split('.')[0]\n",
    "original_subs_path = f'{name_base}-ORIGINAL.srt'\n",
    "eng_subs_path = f'{name_base}-ENG.srt'"
   ]
  },
  {
   "cell_type": "code",
   "execution_count": null,
   "id": "fba47ec1",
   "metadata": {},
   "outputs": [],
   "source": [
    "import pysrt\n",
    "from googletrans import Translator  # unofficial free API\n",
    "from tqdm import tqdm\n",
    "\n",
    "import torch\n",
    "from time import sleep"
   ]
  },
  {
   "cell_type": "code",
   "execution_count": null,
   "id": "3565bb3f",
   "metadata": {},
   "outputs": [],
   "source": [
    "from moviepy import VideoFileClip\n",
    "\n",
    "audio_path = f'{video_path.split(\".\")[0]}.wav'\n",
    "\n",
    "video = VideoFileClip(video_path)\n",
    "video.audio.write_audiofile(audio_path)"
   ]
  },
  {
   "cell_type": "code",
   "execution_count": null,
   "id": "7aa7e4f9",
   "metadata": {},
   "outputs": [],
   "source": [
    "from faster_whisper import WhisperModel\n",
    "\n",
    "model = WhisperModel(\"small\", device=\"cuda\", compute_type=\"int8\")\n",
    "\n",
    "segments, info = model.transcribe(audio_path, beam_size=5)\n",
    "\n",
    "# # segments contains start/end times and text\n",
    "# for segment in segments:\n",
    "#     print(f\"[{segment.start:.2f} --> {segment.end:.2f}] {segment.text}\")"
   ]
  },
  {
   "cell_type": "code",
   "execution_count": null,
   "id": "4b9efb86",
   "metadata": {},
   "outputs": [],
   "source": [
    "with open('hf_access_token', 'r') as f:\n",
    "    hf_access_token = f.read().strip()"
   ]
  },
  {
   "cell_type": "code",
   "execution_count": null,
   "id": "dd1d8e10",
   "metadata": {},
   "outputs": [],
   "source": [
    "device = torch.device(\"cuda\" if torch.cuda.is_available() else \"cpu\")\n",
    "device"
   ]
  },
  {
   "cell_type": "code",
   "execution_count": null,
   "id": "0ddb9c62",
   "metadata": {},
   "outputs": [],
   "source": [
    "from pyannote.audio import Pipeline\n",
    "\n",
    "pipeline = Pipeline.from_pretrained(\"pyannote/speaker-diarization\", use_auth_token=hf_access_token)\n",
    "pipeline.to(device)\n",
    "\n",
    "diarization = pipeline(audio_path)\n",
    "for turn, _, speaker in diarization.itertracks(yield_label=True):\n",
    "    print(f\"{turn.start:.2f}-{turn.end:.2f}: Speaker {speaker}\")"
   ]
  },
  {
   "cell_type": "code",
   "execution_count": null,
   "id": "236696d7",
   "metadata": {},
   "outputs": [],
   "source": [
    "import gc\n",
    "gc.collect()\n",
    "torch.cuda.empty_cache()"
   ]
  },
  {
   "cell_type": "code",
   "execution_count": null,
   "id": "186ac504",
   "metadata": {},
   "outputs": [],
   "source": [
    "def write_srt(segments, diarization=None, out_path=\"subs.srt\"):\n",
    "    def format_timestamp(seconds):\n",
    "        h = int(seconds // 3600)\n",
    "        m = int((seconds % 3600) // 60)\n",
    "        s = int(seconds % 60)\n",
    "        ms = int((seconds - int(seconds)) * 1000)\n",
    "        return f\"{h:02}:{m:02}:{s:02},{ms:03}\"\n",
    "    \n",
    "    with open(out_path, \"w\", encoding=\"utf-8\") as f:\n",
    "        for i, segment in enumerate(segments, 1):\n",
    "            start = format_timestamp(segment.start)\n",
    "            end = format_timestamp(segment.end)\n",
    "\n",
    "            # Optionally find speaker for this segment from diarization\n",
    "            speaker = \"\"\n",
    "            if diarization:\n",
    "                # Find speaker overlapping this segment start\n",
    "                for turn, _, spk in diarization.itertracks(yield_label=True):\n",
    "                    if turn.start <= segment.start <= turn.end:\n",
    "                        speaker = f\"Speaker {spk}: \"\n",
    "                        break\n",
    "\n",
    "            text = speaker + segment.text.strip()\n",
    "            f.write(f\"{i}\\n{start} --> {end}\\n{text}\\n\\n\")\n",
    "\n",
    "write_srt(segments, diarization, out_path=original_subs_path)"
   ]
  },
  {
   "cell_type": "code",
   "execution_count": null,
   "id": "4995d69e",
   "metadata": {},
   "outputs": [],
   "source": [
    "ext = 'srt'\n",
    "original_subs = pysrt.open(original_subs_path)\n",
    "processed = pysrt.open(original_subs_path)\n",
    "subs = pysrt.open(original_subs_path)"
   ]
  },
  {
   "cell_type": "code",
   "execution_count": null,
   "id": "297cedfc",
   "metadata": {},
   "outputs": [],
   "source": []
  },
  {
   "cell_type": "markdown",
   "id": "090fac16",
   "metadata": {},
   "source": [
    "### Post-process subs"
   ]
  },
  {
   "cell_type": "code",
   "execution_count": null,
   "id": "bd0e2df3",
   "metadata": {},
   "outputs": [],
   "source": [
    "import re\n",
    "pattern = r'^Speaker\\s+\\S+:\\s*'"
   ]
  },
  {
   "cell_type": "code",
   "execution_count": null,
   "id": "7a6a87c8",
   "metadata": {},
   "outputs": [],
   "source": [
    "for sub in processed:\n",
    "    sub.text = re.sub(pattern, '', sub.text, flags=re.IGNORECASE)"
   ]
  },
  {
   "cell_type": "code",
   "execution_count": null,
   "id": "de43b9a5",
   "metadata": {},
   "outputs": [],
   "source": [
    "# write\n",
    "processed.save(f'{name_base}-PROCESSED.{ext}', encoding='utf-8')"
   ]
  },
  {
   "cell_type": "code",
   "execution_count": null,
   "id": "7efa1099",
   "metadata": {},
   "outputs": [],
   "source": []
  },
  {
   "cell_type": "markdown",
   "id": "9647efe6",
   "metadata": {},
   "source": [
    "Translate subtitles from French to English using Google Translate API"
   ]
  },
  {
   "cell_type": "code",
   "execution_count": null,
   "id": "18f0982c",
   "metadata": {},
   "outputs": [],
   "source": [
    "translator = Translator()"
   ]
  },
  {
   "cell_type": "code",
   "execution_count": null,
   "id": "e00665cf",
   "metadata": {},
   "outputs": [],
   "source": [
    "i = 0"
   ]
  },
  {
   "cell_type": "code",
   "execution_count": null,
   "id": "8c98acf8",
   "metadata": {},
   "outputs": [],
   "source": [
    "max_retries = 3\n",
    "current_retries = 0"
   ]
  },
  {
   "cell_type": "code",
   "execution_count": null,
   "id": "5f996485",
   "metadata": {},
   "outputs": [],
   "source": [
    "while i < len(subs) and max_retries > current_retries:\n",
    "    try:\n",
    "        for sub in tqdm(subs[i:]):\n",
    "            i += 1\n",
    "            translated = translator.translate(sub.text, src='fr', dest='en')\n",
    "            sub.text = translated.text\n",
    "            \n",
    "            current_retries = 0\n",
    "    except:\n",
    "        print('Failed, will retry')\n",
    "        current_retries += 1\n",
    "        print('Retry attempt: ', current_retries)\n",
    "        sleep(10)\n",
    "        print('Retrying..')"
   ]
  },
  {
   "cell_type": "code",
   "execution_count": null,
   "id": "aeefea25",
   "metadata": {},
   "outputs": [],
   "source": [
    "i"
   ]
  },
  {
   "cell_type": "code",
   "execution_count": null,
   "id": "513d88c5",
   "metadata": {},
   "outputs": [],
   "source": [
    "assert len(subs) == i, 'Not done yet!'"
   ]
  },
  {
   "cell_type": "code",
   "execution_count": null,
   "id": "16dab5ed",
   "metadata": {},
   "outputs": [],
   "source": [
    "# subs.save(f'{name_base}-ENG.{ext}', encoding='utf-8')"
   ]
  },
  {
   "cell_type": "code",
   "execution_count": null,
   "id": "39c5b78f",
   "metadata": {},
   "outputs": [],
   "source": [
    "for sub in subs:\n",
    "    sub.text = re.sub(pattern, '', sub.text, flags=re.IGNORECASE)\n",
    "\n",
    "subs.save(f'{name_base}-ENG-PROCESSED.{ext}', encoding='utf-8')"
   ]
  },
  {
   "cell_type": "code",
   "execution_count": null,
   "id": "8d6b3aad",
   "metadata": {},
   "outputs": [],
   "source": [
    "for original, translated in zip(original_subs[0:20], subs[0:20]):\n",
    "    print(f\"Original:   {original.text}\")\n",
    "    print(f\"Translated: {translated.text}\")\n",
    "    print()"
   ]
  },
  {
   "cell_type": "code",
   "execution_count": null,
   "id": "8efe297c",
   "metadata": {},
   "outputs": [],
   "source": [
    "for original, translated in zip(original_subs[-20:], subs[-20:]):\n",
    "    print(f\"Original:   {original.text}\")\n",
    "    print(f\"Translated: {translated.text}\")\n",
    "    print()"
   ]
  },
  {
   "cell_type": "code",
   "execution_count": null,
   "id": "533f250a",
   "metadata": {},
   "outputs": [],
   "source": []
  }
 ],
 "metadata": {
  "jupytext": {
   "formats": "ipynb,py:percent"
  },
  "kernelspec": {
   "display_name": "translate",
   "language": "python",
   "name": "translate"
  },
  "language_info": {
   "codemirror_mode": {
    "name": "ipython",
    "version": 3
   },
   "file_extension": ".py",
   "mimetype": "text/x-python",
   "name": "python",
   "nbconvert_exporter": "python",
   "pygments_lexer": "ipython3",
   "version": "3.9.13"
  }
 },
 "nbformat": 4,
 "nbformat_minor": 5
}
