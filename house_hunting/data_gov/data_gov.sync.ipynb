{
 "cells": [
  {
   "cell_type": "code",
   "execution_count": 12,
   "id": "c7d7e2ad",
   "metadata": {},
   "outputs": [],
   "source": [
    "import requests\n",
    "import plotly.express as px\n",
    "import pandas as pd"
   ]
  },
  {
   "cell_type": "code",
   "execution_count": 2,
   "id": "66555f83",
   "metadata": {},
   "outputs": [],
   "source": [
    "with open('../keys/data_gov_api_key', 'r') as f:\n",
    "    api_key = f.read().strip()"
   ]
  },
  {
   "cell_type": "code",
   "execution_count": 3,
   "id": "64b7a9c8",
   "metadata": {},
   "outputs": [
    {
     "data": {
      "text/plain": [
       "[{'area': 'ΔΡΑΜΑ',\n",
       "  'district': 'ΔΡΑΜΑΣ',\n",
       "  'email': 'mail@kesy.dra.sch.gr',\n",
       "  'fax_number': '2521076511',\n",
       "  'lat': 41.117155,\n",
       "  'lng': 24.094777,\n",
       "  'municipal_unit': 'ΔΡΑΜΑΣ',\n",
       "  'municipality': 'ΔΡΑΜΑΣ',\n",
       "  'phone_number': '2521076511.0',\n",
       "  'prefecture': 'ΔΡΑΜΑΣ',\n",
       "  'regional_unit': 'ΠΕΡΙΦΕΡΕΙΑΚΗ Δ/ΝΣΗ Π/ΘΜΙΑΣ ΚΑΙ Δ/ΘΜΙΑΣ ΕΚΠ/ΣΗΣ ΑΝ. ΜΑΚΕΔΟΝΙΑΣ ΚΑΙ ΘΡΑΚΗΣ',\n",
       "  'school_code': '9000714',\n",
       "  'school_district': None,\n",
       "  'school_name': 'ΚΕ.Δ.Α.Σ.Υ. ΔΡΑΜΑΣ',\n",
       "  'school_subtype': 'Κέντρο Διεπιστημονικής Αξιολόγησης, Συμβουλευτικής και Υποστήριξης (ΚΕ.Δ.Α.Σ.Υ.)',\n",
       "  'school_type': 'Αποκεντρωμένες Υπηρεσίες',\n",
       "  'street_address': 'ΑΜΠΕΛΑΚΙΑ - Τ.Θ. 1076',\n",
       "  'zip_code': '66100'},\n",
       " {'area': 'ΑΛΕΞΑΝΔΡΟΥΠΟΛΗ',\n",
       "  'district': 'ΑΛΕΞΑΝΔΡΟΥΠΟΛΗΣ',\n",
       "  'email': 'mail@kesy.evr.sch.gr',\n",
       "  'fax_number': '2551083750',\n",
       "  'lat': 40.845719,\n",
       "  'lng': 25.873962,\n",
       "  'municipal_unit': 'ΑΛΕΞΑΝΔΡΟΥΠΟΛΗΣ',\n",
       "  'municipality': 'ΑΛΕΞΑΝΔΡΟΥΠΟΛΗΣ',\n",
       "  'phone_number': '2551080170.0',\n",
       "  'prefecture': 'ΕΒΡΟΥ',\n",
       "  'regional_unit': 'ΠΕΡΙΦΕΡΕΙΑΚΗ Δ/ΝΣΗ Π/ΘΜΙΑΣ ΚΑΙ Δ/ΘΜΙΑΣ ΕΚΠ/ΣΗΣ ΑΝ. ΜΑΚΕΔΟΝΙΑΣ ΚΑΙ ΘΡΑΚΗΣ',\n",
       "  'school_code': '9000715',\n",
       "  'school_district': None,\n",
       "  'school_name': 'ΚΕΝΤΡΟ ΔΙΕΠΙΣΤΗΜΟΝΙΚΗΣ ΑΞΙΟΛΟΓΗΣΗΣ, ΣΥΜΒΟΥΛΕΥΤΙΚΗΣ ΚΑΙ ΥΠΟΣΤΗΡΙΞΗΣ (ΚΕ.Δ.Α.Σ.Υ.) ΕΒΡΟΥ',\n",
       "  'school_subtype': 'Κέντρο Διεπιστημονικής Αξιολόγησης, Συμβουλευτικής και Υποστήριξης (ΚΕ.Δ.Α.Σ.Υ.)',\n",
       "  'school_type': 'Αποκεντρωμένες Υπηρεσίες',\n",
       "  'street_address': '1ο ΧΛΜ ΑΛΕΞΑΝΔΡΟΥΠΟΛΗΣ-ΠΑΛΑΓΙΑΣ',\n",
       "  'zip_code': '68100'},\n",
       " {'area': 'ΚΑΒΑΛΑ',\n",
       "  'district': 'ΚΑΒΑΛΑΣ',\n",
       "  'email': 'mail@kesy.kav.sch.gr',\n",
       "  'fax_number': None,\n",
       "  'lat': 40.935173,\n",
       "  'lng': 24.406591,\n",
       "  'municipal_unit': 'ΚΑΒΑΛΑΣ',\n",
       "  'municipality': 'ΚΑΒΑΛΑΣ',\n",
       "  'phone_number': '2513503471.0',\n",
       "  'prefecture': 'ΚΑΒΑΛΑΣ',\n",
       "  'regional_unit': 'ΠΕΡΙΦΕΡΕΙΑΚΗ Δ/ΝΣΗ Π/ΘΜΙΑΣ ΚΑΙ Δ/ΘΜΙΑΣ ΕΚΠ/ΣΗΣ ΑΝ. ΜΑΚΕΔΟΝΙΑΣ ΚΑΙ ΘΡΑΚΗΣ',\n",
       "  'school_code': '9000716',\n",
       "  'school_district': None,\n",
       "  'school_name': 'ΚΕΔΑΣΥ ΚΑΒΑΛΑΣ',\n",
       "  'school_subtype': 'Κέντρο Διεπιστημονικής Αξιολόγησης, Συμβουλευτικής και Υποστήριξης (ΚΕ.Δ.Α.Σ.Υ.)',\n",
       "  'school_type': 'Αποκεντρωμένες Υπηρεσίες',\n",
       "  'street_address': 'Εθνικής Αντίστασης 20',\n",
       "  'zip_code': '65110'},\n",
       " {'area': 'ΞΑΝΘΗ',\n",
       "  'district': 'ΞΑΝΘΗΣ',\n",
       "  'email': 'mail@kesy.xan.sch.gr',\n",
       "  'fax_number': None,\n",
       "  'lat': 41.123323,\n",
       "  'lng': 24.876545,\n",
       "  'municipal_unit': 'ΞΑΝΘΗΣ',\n",
       "  'municipality': 'ΞΑΝΘΗΣ',\n",
       "  'phone_number': '2541083691.0',\n",
       "  'prefecture': 'ΞΑΝΘΗΣ',\n",
       "  'regional_unit': 'ΠΕΡΙΦΕΡΕΙΑΚΗ Δ/ΝΣΗ Π/ΘΜΙΑΣ ΚΑΙ Δ/ΘΜΙΑΣ ΕΚΠ/ΣΗΣ ΑΝ. ΜΑΚΕΔΟΝΙΑΣ ΚΑΙ ΘΡΑΚΗΣ',\n",
       "  'school_code': '9000717',\n",
       "  'school_district': None,\n",
       "  'school_name': 'ΚΕ.Δ.Α.Σ.Υ. ΞΑΝΘΗΣ',\n",
       "  'school_subtype': 'Κέντρο Διεπιστημονικής Αξιολόγησης, Συμβουλευτικής και Υποστήριξης (ΚΕ.Δ.Α.Σ.Υ.)',\n",
       "  'school_type': 'Αποκεντρωμένες Υπηρεσίες',\n",
       "  'street_address': '11ο ΔΗΜΟΤΙΚΟ ΣΧΟΛΕΙΟ ΞΑΝΘΗΣ - ΝΕΑΠΟΛΗ',\n",
       "  'zip_code': '67133'},\n",
       " {'area': 'ΚΟΜΟΤΗΝΗ',\n",
       "  'district': 'ΚΟΜΟΤΗΝΗΣ',\n",
       "  'email': 'mail@kesy.rod.sch.gr',\n",
       "  'fax_number': '2531082896',\n",
       "  'lat': 41.117506,\n",
       "  'lng': 25.395841,\n",
       "  'municipal_unit': 'ΚΟΜΟΤΗΝΗΣ',\n",
       "  'municipality': 'ΚΟΜΟΤΗΝΗΣ',\n",
       "  'phone_number': '2531081288.0',\n",
       "  'prefecture': 'ΡΟΔΟΠΗΣ',\n",
       "  'regional_unit': 'ΠΕΡΙΦΕΡΕΙΑΚΗ Δ/ΝΣΗ Π/ΘΜΙΑΣ ΚΑΙ Δ/ΘΜΙΑΣ ΕΚΠ/ΣΗΣ ΑΝ. ΜΑΚΕΔΟΝΙΑΣ ΚΑΙ ΘΡΑΚΗΣ',\n",
       "  'school_code': '9000718',\n",
       "  'school_district': None,\n",
       "  'school_name': 'ΚΕ.Δ.Α.Σ.Υ. ΡΟΔΟΠΗΣ',\n",
       "  'school_subtype': 'Κέντρο Διεπιστημονικής Αξιολόγησης, Συμβουλευτικής και Υποστήριξης (ΚΕ.Δ.Α.Σ.Υ.)',\n",
       "  'school_type': 'Αποκεντρωμένες Υπηρεσίες',\n",
       "  'street_address': 'ΜΠΟΤΣΑΡΗ ΜΑΡΚΟΥ 1',\n",
       "  'zip_code': '69132'}]"
      ]
     },
     "execution_count": 3,
     "metadata": {},
     "output_type": "execute_result"
    }
   ],
   "source": [
    "# https://data.gov.gr/datasets/minedu_schools/\n",
    "url = 'https://data.gov.gr/api/v1/query/minedu_schools'\n",
    "headers = {'Authorization':f'Token {api_key}'}\n",
    "response = requests.get(url, headers=headers)\n",
    "response.json()[0:5]"
   ]
  },
  {
   "cell_type": "code",
   "execution_count": 4,
   "id": "94ccd589",
   "metadata": {},
   "outputs": [
    {
     "data": {
      "text/plain": [
       "14181"
      ]
     },
     "execution_count": 4,
     "metadata": {},
     "output_type": "execute_result"
    }
   ],
   "source": [
    "len(response.json())"
   ]
  },
  {
   "cell_type": "code",
   "execution_count": 5,
   "id": "0fd2c17c",
   "metadata": {},
   "outputs": [
    {
     "data": {
      "text/html": [
       "<div>\n",
       "<style scoped>\n",
       "    .dataframe tbody tr th:only-of-type {\n",
       "        vertical-align: middle;\n",
       "    }\n",
       "\n",
       "    .dataframe tbody tr th {\n",
       "        vertical-align: top;\n",
       "    }\n",
       "\n",
       "    .dataframe thead th {\n",
       "        text-align: right;\n",
       "    }\n",
       "</style>\n",
       "<table border=\"1\" class=\"dataframe\">\n",
       "  <thead>\n",
       "    <tr style=\"text-align: right;\">\n",
       "      <th></th>\n",
       "      <th>area</th>\n",
       "      <th>district</th>\n",
       "      <th>email</th>\n",
       "      <th>fax_number</th>\n",
       "      <th>lat</th>\n",
       "      <th>lng</th>\n",
       "      <th>municipal_unit</th>\n",
       "      <th>municipality</th>\n",
       "      <th>phone_number</th>\n",
       "      <th>prefecture</th>\n",
       "      <th>regional_unit</th>\n",
       "      <th>school_code</th>\n",
       "      <th>school_district</th>\n",
       "      <th>school_name</th>\n",
       "      <th>school_subtype</th>\n",
       "      <th>school_type</th>\n",
       "      <th>street_address</th>\n",
       "      <th>zip_code</th>\n",
       "    </tr>\n",
       "  </thead>\n",
       "  <tbody>\n",
       "    <tr>\n",
       "      <th>0</th>\n",
       "      <td>ΔΡΑΜΑ</td>\n",
       "      <td>ΔΡΑΜΑΣ</td>\n",
       "      <td>mail@kesy.dra.sch.gr</td>\n",
       "      <td>2521076511</td>\n",
       "      <td>41.117155</td>\n",
       "      <td>24.094777</td>\n",
       "      <td>ΔΡΑΜΑΣ</td>\n",
       "      <td>ΔΡΑΜΑΣ</td>\n",
       "      <td>2521076511.0</td>\n",
       "      <td>ΔΡΑΜΑΣ</td>\n",
       "      <td>ΠΕΡΙΦΕΡΕΙΑΚΗ Δ/ΝΣΗ Π/ΘΜΙΑΣ ΚΑΙ Δ/ΘΜΙΑΣ ΕΚΠ/ΣΗΣ...</td>\n",
       "      <td>9000714</td>\n",
       "      <td>None</td>\n",
       "      <td>ΚΕ.Δ.Α.Σ.Υ. ΔΡΑΜΑΣ</td>\n",
       "      <td>Κέντρο Διεπιστημονικής Αξιολόγησης, Συμβουλευτ...</td>\n",
       "      <td>Αποκεντρωμένες Υπηρεσίες</td>\n",
       "      <td>ΑΜΠΕΛΑΚΙΑ - Τ.Θ. 1076</td>\n",
       "      <td>66100</td>\n",
       "    </tr>\n",
       "    <tr>\n",
       "      <th>1</th>\n",
       "      <td>ΑΛΕΞΑΝΔΡΟΥΠΟΛΗ</td>\n",
       "      <td>ΑΛΕΞΑΝΔΡΟΥΠΟΛΗΣ</td>\n",
       "      <td>mail@kesy.evr.sch.gr</td>\n",
       "      <td>2551083750</td>\n",
       "      <td>40.845719</td>\n",
       "      <td>25.873962</td>\n",
       "      <td>ΑΛΕΞΑΝΔΡΟΥΠΟΛΗΣ</td>\n",
       "      <td>ΑΛΕΞΑΝΔΡΟΥΠΟΛΗΣ</td>\n",
       "      <td>2551080170.0</td>\n",
       "      <td>ΕΒΡΟΥ</td>\n",
       "      <td>ΠΕΡΙΦΕΡΕΙΑΚΗ Δ/ΝΣΗ Π/ΘΜΙΑΣ ΚΑΙ Δ/ΘΜΙΑΣ ΕΚΠ/ΣΗΣ...</td>\n",
       "      <td>9000715</td>\n",
       "      <td>None</td>\n",
       "      <td>ΚΕΝΤΡΟ ΔΙΕΠΙΣΤΗΜΟΝΙΚΗΣ ΑΞΙΟΛΟΓΗΣΗΣ, ΣΥΜΒΟΥΛΕΥΤ...</td>\n",
       "      <td>Κέντρο Διεπιστημονικής Αξιολόγησης, Συμβουλευτ...</td>\n",
       "      <td>Αποκεντρωμένες Υπηρεσίες</td>\n",
       "      <td>1ο ΧΛΜ ΑΛΕΞΑΝΔΡΟΥΠΟΛΗΣ-ΠΑΛΑΓΙΑΣ</td>\n",
       "      <td>68100</td>\n",
       "    </tr>\n",
       "    <tr>\n",
       "      <th>2</th>\n",
       "      <td>ΚΑΒΑΛΑ</td>\n",
       "      <td>ΚΑΒΑΛΑΣ</td>\n",
       "      <td>mail@kesy.kav.sch.gr</td>\n",
       "      <td>None</td>\n",
       "      <td>40.935173</td>\n",
       "      <td>24.406591</td>\n",
       "      <td>ΚΑΒΑΛΑΣ</td>\n",
       "      <td>ΚΑΒΑΛΑΣ</td>\n",
       "      <td>2513503471.0</td>\n",
       "      <td>ΚΑΒΑΛΑΣ</td>\n",
       "      <td>ΠΕΡΙΦΕΡΕΙΑΚΗ Δ/ΝΣΗ Π/ΘΜΙΑΣ ΚΑΙ Δ/ΘΜΙΑΣ ΕΚΠ/ΣΗΣ...</td>\n",
       "      <td>9000716</td>\n",
       "      <td>None</td>\n",
       "      <td>ΚΕΔΑΣΥ ΚΑΒΑΛΑΣ</td>\n",
       "      <td>Κέντρο Διεπιστημονικής Αξιολόγησης, Συμβουλευτ...</td>\n",
       "      <td>Αποκεντρωμένες Υπηρεσίες</td>\n",
       "      <td>Εθνικής Αντίστασης 20</td>\n",
       "      <td>65110</td>\n",
       "    </tr>\n",
       "    <tr>\n",
       "      <th>3</th>\n",
       "      <td>ΞΑΝΘΗ</td>\n",
       "      <td>ΞΑΝΘΗΣ</td>\n",
       "      <td>mail@kesy.xan.sch.gr</td>\n",
       "      <td>None</td>\n",
       "      <td>41.123323</td>\n",
       "      <td>24.876545</td>\n",
       "      <td>ΞΑΝΘΗΣ</td>\n",
       "      <td>ΞΑΝΘΗΣ</td>\n",
       "      <td>2541083691.0</td>\n",
       "      <td>ΞΑΝΘΗΣ</td>\n",
       "      <td>ΠΕΡΙΦΕΡΕΙΑΚΗ Δ/ΝΣΗ Π/ΘΜΙΑΣ ΚΑΙ Δ/ΘΜΙΑΣ ΕΚΠ/ΣΗΣ...</td>\n",
       "      <td>9000717</td>\n",
       "      <td>None</td>\n",
       "      <td>ΚΕ.Δ.Α.Σ.Υ. ΞΑΝΘΗΣ</td>\n",
       "      <td>Κέντρο Διεπιστημονικής Αξιολόγησης, Συμβουλευτ...</td>\n",
       "      <td>Αποκεντρωμένες Υπηρεσίες</td>\n",
       "      <td>11ο ΔΗΜΟΤΙΚΟ ΣΧΟΛΕΙΟ ΞΑΝΘΗΣ - ΝΕΑΠΟΛΗ</td>\n",
       "      <td>67133</td>\n",
       "    </tr>\n",
       "    <tr>\n",
       "      <th>4</th>\n",
       "      <td>ΚΟΜΟΤΗΝΗ</td>\n",
       "      <td>ΚΟΜΟΤΗΝΗΣ</td>\n",
       "      <td>mail@kesy.rod.sch.gr</td>\n",
       "      <td>2531082896</td>\n",
       "      <td>41.117506</td>\n",
       "      <td>25.395841</td>\n",
       "      <td>ΚΟΜΟΤΗΝΗΣ</td>\n",
       "      <td>ΚΟΜΟΤΗΝΗΣ</td>\n",
       "      <td>2531081288.0</td>\n",
       "      <td>ΡΟΔΟΠΗΣ</td>\n",
       "      <td>ΠΕΡΙΦΕΡΕΙΑΚΗ Δ/ΝΣΗ Π/ΘΜΙΑΣ ΚΑΙ Δ/ΘΜΙΑΣ ΕΚΠ/ΣΗΣ...</td>\n",
       "      <td>9000718</td>\n",
       "      <td>None</td>\n",
       "      <td>ΚΕ.Δ.Α.Σ.Υ. ΡΟΔΟΠΗΣ</td>\n",
       "      <td>Κέντρο Διεπιστημονικής Αξιολόγησης, Συμβουλευτ...</td>\n",
       "      <td>Αποκεντρωμένες Υπηρεσίες</td>\n",
       "      <td>ΜΠΟΤΣΑΡΗ ΜΑΡΚΟΥ 1</td>\n",
       "      <td>69132</td>\n",
       "    </tr>\n",
       "  </tbody>\n",
       "</table>\n",
       "</div>"
      ],
      "text/plain": [
       "             area         district                 email  fax_number  \\\n",
       "0           ΔΡΑΜΑ           ΔΡΑΜΑΣ  mail@kesy.dra.sch.gr  2521076511   \n",
       "1  ΑΛΕΞΑΝΔΡΟΥΠΟΛΗ  ΑΛΕΞΑΝΔΡΟΥΠΟΛΗΣ  mail@kesy.evr.sch.gr  2551083750   \n",
       "2          ΚΑΒΑΛΑ          ΚΑΒΑΛΑΣ  mail@kesy.kav.sch.gr        None   \n",
       "3           ΞΑΝΘΗ           ΞΑΝΘΗΣ  mail@kesy.xan.sch.gr        None   \n",
       "4        ΚΟΜΟΤΗΝΗ        ΚΟΜΟΤΗΝΗΣ  mail@kesy.rod.sch.gr  2531082896   \n",
       "\n",
       "         lat        lng   municipal_unit     municipality  phone_number  \\\n",
       "0  41.117155  24.094777           ΔΡΑΜΑΣ           ΔΡΑΜΑΣ  2521076511.0   \n",
       "1  40.845719  25.873962  ΑΛΕΞΑΝΔΡΟΥΠΟΛΗΣ  ΑΛΕΞΑΝΔΡΟΥΠΟΛΗΣ  2551080170.0   \n",
       "2  40.935173  24.406591          ΚΑΒΑΛΑΣ          ΚΑΒΑΛΑΣ  2513503471.0   \n",
       "3  41.123323  24.876545           ΞΑΝΘΗΣ           ΞΑΝΘΗΣ  2541083691.0   \n",
       "4  41.117506  25.395841        ΚΟΜΟΤΗΝΗΣ        ΚΟΜΟΤΗΝΗΣ  2531081288.0   \n",
       "\n",
       "  prefecture                                      regional_unit school_code  \\\n",
       "0     ΔΡΑΜΑΣ  ΠΕΡΙΦΕΡΕΙΑΚΗ Δ/ΝΣΗ Π/ΘΜΙΑΣ ΚΑΙ Δ/ΘΜΙΑΣ ΕΚΠ/ΣΗΣ...     9000714   \n",
       "1      ΕΒΡΟΥ  ΠΕΡΙΦΕΡΕΙΑΚΗ Δ/ΝΣΗ Π/ΘΜΙΑΣ ΚΑΙ Δ/ΘΜΙΑΣ ΕΚΠ/ΣΗΣ...     9000715   \n",
       "2    ΚΑΒΑΛΑΣ  ΠΕΡΙΦΕΡΕΙΑΚΗ Δ/ΝΣΗ Π/ΘΜΙΑΣ ΚΑΙ Δ/ΘΜΙΑΣ ΕΚΠ/ΣΗΣ...     9000716   \n",
       "3     ΞΑΝΘΗΣ  ΠΕΡΙΦΕΡΕΙΑΚΗ Δ/ΝΣΗ Π/ΘΜΙΑΣ ΚΑΙ Δ/ΘΜΙΑΣ ΕΚΠ/ΣΗΣ...     9000717   \n",
       "4    ΡΟΔΟΠΗΣ  ΠΕΡΙΦΕΡΕΙΑΚΗ Δ/ΝΣΗ Π/ΘΜΙΑΣ ΚΑΙ Δ/ΘΜΙΑΣ ΕΚΠ/ΣΗΣ...     9000718   \n",
       "\n",
       "  school_district                                        school_name  \\\n",
       "0            None                                 ΚΕ.Δ.Α.Σ.Υ. ΔΡΑΜΑΣ   \n",
       "1            None  ΚΕΝΤΡΟ ΔΙΕΠΙΣΤΗΜΟΝΙΚΗΣ ΑΞΙΟΛΟΓΗΣΗΣ, ΣΥΜΒΟΥΛΕΥΤ...   \n",
       "2            None                                     ΚΕΔΑΣΥ ΚΑΒΑΛΑΣ   \n",
       "3            None                                 ΚΕ.Δ.Α.Σ.Υ. ΞΑΝΘΗΣ   \n",
       "4            None                                ΚΕ.Δ.Α.Σ.Υ. ΡΟΔΟΠΗΣ   \n",
       "\n",
       "                                      school_subtype  \\\n",
       "0  Κέντρο Διεπιστημονικής Αξιολόγησης, Συμβουλευτ...   \n",
       "1  Κέντρο Διεπιστημονικής Αξιολόγησης, Συμβουλευτ...   \n",
       "2  Κέντρο Διεπιστημονικής Αξιολόγησης, Συμβουλευτ...   \n",
       "3  Κέντρο Διεπιστημονικής Αξιολόγησης, Συμβουλευτ...   \n",
       "4  Κέντρο Διεπιστημονικής Αξιολόγησης, Συμβουλευτ...   \n",
       "\n",
       "                school_type                         street_address zip_code  \n",
       "0  Αποκεντρωμένες Υπηρεσίες                  ΑΜΠΕΛΑΚΙΑ - Τ.Θ. 1076    66100  \n",
       "1  Αποκεντρωμένες Υπηρεσίες        1ο ΧΛΜ ΑΛΕΞΑΝΔΡΟΥΠΟΛΗΣ-ΠΑΛΑΓΙΑΣ    68100  \n",
       "2  Αποκεντρωμένες Υπηρεσίες                  Εθνικής Αντίστασης 20    65110  \n",
       "3  Αποκεντρωμένες Υπηρεσίες  11ο ΔΗΜΟΤΙΚΟ ΣΧΟΛΕΙΟ ΞΑΝΘΗΣ - ΝΕΑΠΟΛΗ    67133  \n",
       "4  Αποκεντρωμένες Υπηρεσίες                      ΜΠΟΤΣΑΡΗ ΜΑΡΚΟΥ 1    69132  "
      ]
     },
     "execution_count": 5,
     "metadata": {},
     "output_type": "execute_result"
    }
   ],
   "source": [
    "df = pd.DataFrame(response.json())\n",
    "df.head()"
   ]
  },
  {
   "cell_type": "code",
   "execution_count": 6,
   "id": "8bc07994",
   "metadata": {},
   "outputs": [
    {
     "name": "stdout",
     "output_type": "stream",
     "text": [
      "<class 'pandas.core.frame.DataFrame'>\n",
      "RangeIndex: 14181 entries, 0 to 14180\n",
      "Data columns (total 18 columns):\n",
      " #   Column           Non-Null Count  Dtype  \n",
      "---  ------           --------------  -----  \n",
      " 0   area             13951 non-null  object \n",
      " 1   district         14181 non-null  object \n",
      " 2   email            14033 non-null  object \n",
      " 3   fax_number       11588 non-null  object \n",
      " 4   lat              13975 non-null  float64\n",
      " 5   lng              13975 non-null  float64\n",
      " 6   municipal_unit   14181 non-null  object \n",
      " 7   municipality     14181 non-null  object \n",
      " 8   phone_number     14080 non-null  object \n",
      " 9   prefecture       14181 non-null  object \n",
      " 10  regional_unit    14181 non-null  object \n",
      " 11  school_code      14181 non-null  object \n",
      " 12  school_district  14105 non-null  object \n",
      " 13  school_name      14181 non-null  object \n",
      " 14  school_subtype   14181 non-null  object \n",
      " 15  school_type      14181 non-null  object \n",
      " 16  street_address   14089 non-null  object \n",
      " 17  zip_code         14095 non-null  object \n",
      "dtypes: float64(2), object(16)\n",
      "memory usage: 1.9+ MB\n"
     ]
    }
   ],
   "source": [
    "df.info()"
   ]
  },
  {
   "cell_type": "code",
   "execution_count": 7,
   "id": "74288551",
   "metadata": {},
   "outputs": [
    {
     "data": {
      "text/plain": [
       "fax_number         2593\n",
       "area                230\n",
       "lat                 206\n",
       "lng                 206\n",
       "email               148\n",
       "phone_number        101\n",
       "street_address       92\n",
       "zip_code             86\n",
       "school_district      76\n",
       "municipality          0\n",
       "district              0\n",
       "regional_unit         0\n",
       "school_code           0\n",
       "school_name           0\n",
       "school_subtype        0\n",
       "school_type           0\n",
       "municipal_unit        0\n",
       "prefecture            0\n",
       "dtype: int64"
      ]
     },
     "execution_count": 7,
     "metadata": {},
     "output_type": "execute_result"
    }
   ],
   "source": [
    "df.isna().sum().sort_values(ascending=False)"
   ]
  },
  {
   "cell_type": "code",
   "execution_count": 8,
   "id": "22be6a39",
   "metadata": {},
   "outputs": [
    {
     "data": {
      "text/plain": [
       "area\n",
       "ΑΘΗΝΑ          236\n",
       "ΘΕΣΣΑΛΟΝΙΚΗ    235\n",
       "ΛΑΡΙΣΑ         148\n",
       "ΑΘΗΝΩΝ         143\n",
       "ΠΕΡΙΣΤΕΡΙ      124\n",
       "              ... \n",
       "Ροδοτόπι         1\n",
       "ΣΤΑΥΡΑΚΙ         1\n",
       "ΜΗΛΕΑΣ           1\n",
       "ΚΡΑΝΟΥΛΑ         1\n",
       "ΔΕΛΦΩΝ           1\n",
       "Name: count, Length: 5043, dtype: int64"
      ]
     },
     "execution_count": 8,
     "metadata": {},
     "output_type": "execute_result"
    }
   ],
   "source": [
    "df['area'].value_counts()"
   ]
  },
  {
   "cell_type": "code",
   "execution_count": 9,
   "id": "b7d0f2b1",
   "metadata": {},
   "outputs": [
    {
     "data": {
      "text/plain": [
       "municipality\n",
       "ΑΧΑΡΝΩΝ        110\n",
       "ΒΟΛΟΥ          109\n",
       "ΝΕΑΣ ΙΩΝΙΑΣ     98\n",
       "ΙΩΑΝΝΙΤΩΝ       97\n",
       "ΧΑΝΙΩΝ          96\n",
       "              ... \n",
       "ΔΟΛΙΧΗΣ          1\n",
       "ΑΝΩ ΜΕΡΙΑΣ       1\n",
       "ΔΑΝΑΚΟΥ          1\n",
       "ΚΟΜΠΩΤΗΣ         1\n",
       "ΜΑΛΑΜΑΤΩΝ        1\n",
       "Name: count, Length: 2161, dtype: int64"
      ]
     },
     "execution_count": 9,
     "metadata": {},
     "output_type": "execute_result"
    }
   ],
   "source": [
    "df['municipality'].value_counts()"
   ]
  },
  {
   "cell_type": "code",
   "execution_count": 10,
   "id": "88de8526",
   "metadata": {},
   "outputs": [
    {
     "data": {
      "text/plain": [
       "district\n",
       "ΑΘΗΝΑΙΩΝ        468\n",
       "ΗΡΑΚΛΕΙΟΥ       261\n",
       "ΘΕΣΣΑΛΟΝΙΚΗΣ    226\n",
       "ΠΑΤΡΕΩΝ         197\n",
       "ΠΕΙΡΑΙΩΣ        176\n",
       "               ... \n",
       "ΒΕΡΤΙΣΚΟΥ         1\n",
       "ΚΡΑΝΕΑΣ           1\n",
       "ΒΕΝΤΖΙΟΥ          1\n",
       "ΑΓΙΟΥ ΚΟΣΜΑ       1\n",
       "ΘΕΡΜΩΝ            1\n",
       "Name: count, Length: 926, dtype: int64"
      ]
     },
     "execution_count": 10,
     "metadata": {},
     "output_type": "execute_result"
    }
   ],
   "source": [
    "df['district'].value_counts()"
   ]
  },
  {
   "cell_type": "code",
   "execution_count": 13,
   "id": "d7e09abd",
   "metadata": {},
   "outputs": [
    {
     "data": {
      "text/plain": [
       "regional_unit\n",
       "ΠΕΡΙΦΕΡΕΙΑΚΗ Δ/ΝΣΗ Π/ΘΜΙΑΣ ΚΑΙ Δ/ΘΜΙΑΣ ΕΚΠ/ΣΗΣ ΑΤΤΙΚΗΣ                      3784\n",
       "ΠΕΡΙΦΕΡΕΙΑΚΗ Δ/ΝΣΗ Π/ΘΜΙΑΣ ΚΑΙ Δ/ΘΜΙΑΣ ΕΚΠ/ΣΗΣ ΚΕΝΤΡΙΚΗΣ ΜΑΚΕΔΟΝΙΑΣ         2372\n",
       "ΠΕΡΙΦΕΡΕΙΑΚΗ Δ/ΝΣΗ Π/ΘΜΙΑΣ ΚΑΙ Δ/ΘΜΙΑΣ ΕΚΠ/ΣΗΣ ΔΥΤΙΚΗΣ ΕΛΛΑΔΑΣ              1054\n",
       "ΠΕΡΙΦΕΡΕΙΑΚΗ Δ/ΝΣΗ Π/ΘΜΙΑΣ ΚΑΙ Δ/ΘΜΙΑΣ ΕΚΠ/ΣΗΣ ΘΕΣΣΑΛΙΑΣ                    1045\n",
       "ΠΕΡΙΦΕΡΕΙΑΚΗ Δ/ΝΣΗ Π/ΘΜΙΑΣ ΚΑΙ Δ/ΘΜΙΑΣ ΕΚΠ/ΣΗΣ ΚΡΗΤΗΣ                       1015\n",
       "ΠΕΡΙΦΕΡΕΙΑΚΗ Δ/ΝΣΗ Π/ΘΜΙΑΣ ΚΑΙ Δ/ΘΜΙΑΣ ΕΚΠ/ΣΗΣ ΠΕΛΟΠΟΝΝΗΣΟΥ                  853\n",
       "ΠΕΡΙΦΕΡΕΙΑΚΗ Δ/ΝΣΗ Π/ΘΜΙΑΣ ΚΑΙ Δ/ΘΜΙΑΣ ΕΚΠ/ΣΗΣ ΑΝ. ΜΑΚΕΔΟΝΙΑΣ ΚΑΙ ΘΡΑΚΗΣ     837\n",
       "ΠΕΡΙΦΕΡΕΙΑΚΗ Δ/ΝΣΗ Π/ΘΜΙΑΣ ΚΑΙ Δ/ΘΜΙΑΣ ΕΚΠ/ΣΗΣ ΣΤΕΡΕΑΣ ΕΛΛΑΔΑΣ               833\n",
       "ΠΕΡΙΦΕΡΕΙΑΚΗ Δ/ΝΣΗ Π/ΘΜΙΑΣ ΚΑΙ Δ/ΘΜΙΑΣ ΕΚΠ/ΣΗΣ ΝΟΤΙΟΥ ΑΙΓΑΙΟΥ                597\n",
       "ΠΕΡΙΦΕΡΕΙΑΚΗ Δ/ΝΣΗ Π/ΘΜΙΑΣ ΚΑΙ Δ/ΘΜΙΑΣ ΕΚΠ/ΣΗΣ ΗΠΕΙΡΟΥ                       558\n",
       "ΠΕΡΙΦΕΡΕΙΑΚΗ Δ/ΝΣΗ Π/ΘΜΙΑΣ ΚΑΙ Δ/ΘΜΙΑΣ ΕΚΠ/ΣΗΣ ΔΥΤΙΚΗΣ ΜΑΚΕΔΟΝΙΑΣ            465\n",
       "ΠΕΡΙΦΕΡΕΙΑΚΗ Δ/ΝΣΗ Π/ΘΜΙΑΣ ΚΑΙ Δ/ΘΜΙΑΣ ΕΚΠ/ΣΗΣ ΒΟΡΕΙΟΥ ΑΙΓΑΙΟΥ               407\n",
       "ΠΕΡΙΦΕΡΕΙΑΚΗ Δ/ΝΣΗ Π/ΘΜΙΑΣ ΚΑΙ Δ/ΘΜΙΑΣ ΕΚΠ/ΣΗΣ ΙΟΝΙΩΝ ΝΗΣΩΝ                  356\n",
       "ΣΙΒΙΤΑΝΙΔΕΙΟΣ ΔΗΜΟΣΙΑ ΣΧΟΛΗ ΤΕΧΝΩΝ ΚΑΙ ΕΠΑΓΓΕΛΜΑΤΩΝ                            5\n",
       "Name: count, dtype: int64"
      ]
     },
     "execution_count": 13,
     "metadata": {},
     "output_type": "execute_result"
    }
   ],
   "source": [
    "df['regional_unit'].value_counts()"
   ]
  },
  {
   "cell_type": "code",
   "execution_count": 14,
   "id": "8542af62",
   "metadata": {},
   "outputs": [
    {
     "data": {
      "text/plain": [
       "school_type\n",
       "Νηπιαγωγεία                                          4957\n",
       "Δημοτικά Σχολεία                                     4360\n",
       "Γυμνάσια                                             1814\n",
       "Ιδιωτικά Σχολεία                                     1264\n",
       "Λύκεια                                               1066\n",
       "Επαγγελματικά Λύκεια                                  435\n",
       "Σχολικό Εργαστηριακό Κέντρο                           120\n",
       "Ειδικής Επαγγελματικής Εκπαίδευσης και Κατάρτισης      94\n",
       "Αποκεντρωμένες Υπηρεσίες                               71\n",
       "Name: count, dtype: int64"
      ]
     },
     "execution_count": 14,
     "metadata": {},
     "output_type": "execute_result"
    }
   ],
   "source": [
    "df['school_type'].value_counts()"
   ]
  },
  {
   "cell_type": "code",
   "execution_count": 19,
   "id": "ebff3e5a",
   "metadata": {},
   "outputs": [
    {
     "ename": "NameError",
     "evalue": "name 'np' is not defined",
     "output_type": "error",
     "traceback": [
      "\u001b[0;31m---------------------------------------------------------------------------\u001b[0m",
      "\u001b[0;31mNameError\u001b[0m                                 Traceback (most recent call last)",
      "Cell \u001b[0;32mIn [19], line 3\u001b[0m\n\u001b[1;32m      1\u001b[0m \u001b[38;5;66;03m# create a large plotly express map graph\u001b[39;00m\n\u001b[1;32m      2\u001b[0m viz_df \u001b[38;5;241m=\u001b[39m df\u001b[38;5;241m.\u001b[39mcopy()[df[\u001b[38;5;124m'\u001b[39m\u001b[38;5;124mregional_unit\u001b[39m\u001b[38;5;124m'\u001b[39m] \u001b[38;5;241m==\u001b[39m \u001b[38;5;124m'\u001b[39m\u001b[38;5;124mΠΕΡΙΦΕΡΕΙΑΚΗ Δ/ΝΣΗ Π/ΘΜΙΑΣ ΚΑΙ Δ/ΘΜΙΑΣ ΕΚΠ/ΣΗΣ ΑΤΤΙΚΗΣ\u001b[39m\u001b[38;5;124m'\u001b[39m]\n\u001b[0;32m----> 3\u001b[0m viz_df[\u001b[38;5;124m'\u001b[39m\u001b[38;5;124mType\u001b[39m\u001b[38;5;124m'\u001b[39m] \u001b[38;5;241m=\u001b[39m \u001b[43mnp\u001b[49m\u001b[38;5;241m.\u001b[39mwhere(viz_df[\u001b[38;5;124m'\u001b[39m\u001b[38;5;124mschool_type\u001b[39m\u001b[38;5;124m'\u001b[39m] \u001b[38;5;241m==\u001b[39m \u001b[38;5;124m'\u001b[39m\u001b[38;5;124mΙδιωτικά Σχολεία\u001b[39m\u001b[38;5;124m'\u001b[39m, \u001b[38;5;124m'\u001b[39m\u001b[38;5;124mPrivate\u001b[39m\u001b[38;5;124m'\u001b[39m, \u001b[38;5;124m'\u001b[39m\u001b[38;5;124mPublic\u001b[39m\u001b[38;5;124m'\u001b[39m)\n\u001b[1;32m      5\u001b[0m fig \u001b[38;5;241m=\u001b[39m px\u001b[38;5;241m.\u001b[39mscatter_mapbox(\n\u001b[1;32m      6\u001b[0m     viz_df,\n\u001b[1;32m      7\u001b[0m     lat\u001b[38;5;241m=\u001b[39m\u001b[38;5;124m'\u001b[39m\u001b[38;5;124mlat\u001b[39m\u001b[38;5;124m'\u001b[39m,\n\u001b[0;32m   (...)\u001b[0m\n\u001b[1;32m     10\u001b[0m     color\u001b[38;5;241m=\u001b[39m\u001b[38;5;124m'\u001b[39m\u001b[38;5;124mschool_type\u001b[39m\u001b[38;5;124m'\u001b[39m\n\u001b[1;32m     11\u001b[0m     )\n\u001b[1;32m     13\u001b[0m fig\u001b[38;5;241m.\u001b[39mupdate_layout(\n\u001b[1;32m     14\u001b[0m         mapbox_style\u001b[38;5;241m=\u001b[39m\u001b[38;5;124m'\u001b[39m\u001b[38;5;124mopen-street-map\u001b[39m\u001b[38;5;124m'\u001b[39m,\n\u001b[1;32m     15\u001b[0m         margin\u001b[38;5;241m=\u001b[39m\u001b[38;5;28mdict\u001b[39m(l\u001b[38;5;241m=\u001b[39m\u001b[38;5;241m20\u001b[39m, r\u001b[38;5;241m=\u001b[39m\u001b[38;5;241m20\u001b[39m, t\u001b[38;5;241m=\u001b[39m\u001b[38;5;241m20\u001b[39m, b\u001b[38;5;241m=\u001b[39m\u001b[38;5;241m20\u001b[39m),\n\u001b[1;32m     16\u001b[0m         height\u001b[38;5;241m=\u001b[39m\u001b[38;5;241m1000\u001b[39m,\n\u001b[1;32m     17\u001b[0m         width\u001b[38;5;241m=\u001b[39m\u001b[38;5;241m1400\u001b[39m\n\u001b[1;32m     18\u001b[0m         )\n",
      "\u001b[0;31mNameError\u001b[0m: name 'np' is not defined"
     ]
    }
   ],
   "source": [
    "# create a large plotly express map graph\n",
    "viz_df = df.copy()[df['regional_unit'] == 'ΠΕΡΙΦΕΡΕΙΑΚΗ Δ/ΝΣΗ Π/ΘΜΙΑΣ ΚΑΙ Δ/ΘΜΙΑΣ ΕΚΠ/ΣΗΣ ΑΤΤΙΚΗΣ']\n",
    "viz_df['Type'] = np.where(viz_df['school_type'] == 'Ιδιωτικά Σχολεία', 'Private', 'Public')\n",
    "\n",
    "fig = px.scatter_mapbox(\n",
    "    viz_df,\n",
    "    lat='lat',\n",
    "    lon='lng',\n",
    "    hover_name='school_name',\n",
    "    color='school_type'\n",
    "    )\n",
    "\n",
    "fig.update_layout(\n",
    "        mapbox_style='open-street-map',\n",
    "        margin=dict(l=20, r=20, t=20, b=20),\n",
    "        height=1000,\n",
    "        width=1400\n",
    "        )\n",
    "\n",
    "fig.show()"
   ]
  },
  {
   "cell_type": "code",
   "execution_count": null,
   "id": "f51cbc78",
   "metadata": {},
   "outputs": [],
   "source": []
  }
 ],
 "metadata": {
  "jupytext": {
   "formats": "ipynb,py:percent"
  },
  "kernelspec": {
   "display_name": "Python 3 (ipykernel)",
   "language": "python",
   "name": "python3"
  },
  "language_info": {
   "codemirror_mode": {
    "name": "ipython",
    "version": 3
   },
   "file_extension": ".py",
   "mimetype": "text/x-python",
   "name": "python",
   "nbconvert_exporter": "python",
   "pygments_lexer": "ipython3",
   "version": "3.9.13"
  }
 },
 "nbformat": 4,
 "nbformat_minor": 5
}
