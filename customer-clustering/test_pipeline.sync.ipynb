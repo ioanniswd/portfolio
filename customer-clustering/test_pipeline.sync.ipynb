{
 "cells": [
  {
   "cell_type": "code",
   "execution_count": 1,
   "id": "795eef49",
   "metadata": {},
   "outputs": [],
   "source": [
    "import joblib\n",
    "from pathlib import Path\n",
    "import pandas as pd\n",
    "from preprocessing.preprocessor import Preprocessor"
   ]
  },
  {
   "cell_type": "code",
   "execution_count": 2,
   "id": "ff6d59c6",
   "metadata": {},
   "outputs": [],
   "source": [
    "import warnings\n",
    "warnings.filterwarnings(\"ignore\")"
   ]
  },
  {
   "cell_type": "code",
   "execution_count": 3,
   "id": "c199ce1d",
   "metadata": {},
   "outputs": [],
   "source": [
    "model_dir = Path('models')\n",
    "model_filename = model_dir / 'customer_clustering_pipeline.joblib'"
   ]
  },
  {
   "cell_type": "code",
   "execution_count": 4,
   "id": "3cb293ca",
   "metadata": {},
   "outputs": [],
   "source": [
    "pipeline = joblib.load(model_filename)"
   ]
  },
  {
   "cell_type": "code",
   "execution_count": 5,
   "id": "29e79835",
   "metadata": {},
   "outputs": [],
   "source": [
    "original_df = pd.read_csv('data/marketing_campaign.csv', sep='\\t')\n",
    "new_data = original_df[-10:].copy()"
   ]
  },
  {
   "cell_type": "code",
   "execution_count": 6,
   "id": "30cab1bb",
   "metadata": {},
   "outputs": [
    {
     "data": {
      "text/plain": [
       "Cluster\n",
       "1    5\n",
       "0    3\n",
       "2    2\n",
       "Name: count, dtype: int64"
      ]
     },
     "execution_count": 6,
     "metadata": {},
     "output_type": "execute_result"
    }
   ],
   "source": [
    "new_data['Cluster'] = pipeline.predict(new_data)\n",
    "new_data['Cluster'].value_counts()"
   ]
  },
  {
   "cell_type": "code",
   "execution_count": null,
   "id": "70f3217f",
   "metadata": {},
   "outputs": [],
   "source": []
  }
 ],
 "metadata": {
  "jupytext": {
   "formats": "ipynb,auto:percent"
  },
  "kernelspec": {
   "display_name": "Python 3 (ipykernel)",
   "language": "python",
   "name": "python3"
  },
  "language_info": {
   "codemirror_mode": {
    "name": "ipython",
    "version": 3
   },
   "file_extension": ".py",
   "mimetype": "text/x-python",
   "name": "python",
   "nbconvert_exporter": "python",
   "pygments_lexer": "ipython3",
   "version": "3.9.13"
  }
 },
 "nbformat": 4,
 "nbformat_minor": 5
}
